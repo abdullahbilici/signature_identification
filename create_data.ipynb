{
 "cells": [
  {
   "cell_type": "code",
   "execution_count": null,
   "metadata": {},
   "outputs": [],
   "source": [
    "from pickle import load\n",
    "import numpy as np\n",
    "from matplotlib import pyplot as plt\n",
    "import random\n",
    "\n",
    "\n",
    "%load_ext autoreload\n",
    "%autoreload 2"
   ]
  },
  {
   "cell_type": "code",
   "execution_count": 2,
   "metadata": {},
   "outputs": [],
   "source": [
    "seed = 42\n",
    "random.seed(seed)\n",
    "np.random.seed(seed)"
   ]
  },
  {
   "cell_type": "code",
   "execution_count": 3,
   "metadata": {},
   "outputs": [
    {
     "data": {
      "text/plain": [
       "964"
      ]
     },
     "execution_count": 3,
     "metadata": {},
     "output_type": "execute_result"
    }
   ],
   "source": [
    "with open('./data/data_64.pkl', 'rb') as f:\n",
    "    data = load(f)\n",
    "\n",
    "len(data)"
   ]
  },
  {
   "cell_type": "code",
   "execution_count": null,
   "metadata": {},
   "outputs": [],
   "source": [
    "# classes = np.random.randint(0,len(data),(100, 4))\n",
    "\n",
    "# same_classes = False\n",
    "# for i in range(classes.shape[0]):\n",
    "#     for j in range(i+1, classes.shape[0]):\n",
    "#         if tuple(classes[i]) == tuple(classes[j]):\n",
    "#             same_classes = True\n",
    "\n",
    "# if not same_classes:\n",
    "#     np.save(\"data/classes\", classes)\n"
   ]
  },
  {
   "cell_type": "code",
   "execution_count": 4,
   "metadata": {},
   "outputs": [
    {
     "data": {
      "text/plain": [
       "(100, 4)"
      ]
     },
     "execution_count": 4,
     "metadata": {},
     "output_type": "execute_result"
    }
   ],
   "source": [
    "classes = np.load(\"data/classes.npy\")\n",
    "classes.shape\n"
   ]
  },
  {
   "cell_type": "code",
   "execution_count": null,
   "metadata": {},
   "outputs": [],
   "source": [
    "def generate_signature(data, inx_1, inx_2, inx_3, inx_4):\n",
    "    start_range = 10\n",
    "    result_img = np.zeros((128,128))\n",
    "\n",
    "    img_1 = random.choice(data[inx_1]) == False\n",
    "    img_2 = random.choice(data[inx_2]) == False\n",
    "    img_3 = random.choice(data[inx_3]) == False\n",
    "    img_4 = random.choice(data[inx_4]) == False\n",
    "\n",
    "    row, col = np.random.randint([32-start_range,0], [32+start_range,0+start_range])\n",
    "    result_img[row:row+64, col:col+64] += img_1\n",
    "\n",
    "    row, col = np.random.randint([32-start_range,21-start_range], [32+start_range,21+start_range])\n",
    "    result_img[row:row+64, col:col+64] += img_2\n",
    "\n",
    "    row, col = np.random.randint([32-start_range,42-start_range], [32+start_range,42+start_range])\n",
    "    result_img[row:row+64, col:col+64] += img_3\n",
    "\n",
    "    row, col = np.random.randint([32-start_range,64-start_range], [32+start_range,64])\n",
    "    result_img[row:row+64, col:col+64] += img_4\n",
    "\n",
    "    result_img =  result_img > 0\n",
    "\n",
    "    return result_img"
   ]
  },
  {
   "cell_type": "code",
   "execution_count": null,
   "metadata": {},
   "outputs": [],
   "source": [
    "num_samples = 100\n",
    "\n",
    "# Generate pairs of images and labels\n",
    "samples = []\n",
    "labels = []\n",
    "\n",
    "for label in range(classes.shape[0]):\n",
    "    for _ in range(num_samples):\n",
    "        # Generate a pair of random images\n",
    "        image = generate_signature(data, *classes[label])        \n",
    "        \n",
    "        # Append to the dataset\n",
    "        samples.append(image)\n",
    "        labels.append(label)\n",
    "\n",
    "# Convert lists to NumPy arrays\n",
    "samples = np.array(samples)\n",
    "samples = samples.reshape(10000, 1, 128, 128)\n",
    "labels = np.array(labels) "
   ]
  },
  {
   "cell_type": "code",
   "execution_count": 6,
   "metadata": {},
   "outputs": [
    {
     "data": {
      "text/plain": [
       "(10000, 1, 128, 128)"
      ]
     },
     "execution_count": 6,
     "metadata": {},
     "output_type": "execute_result"
    }
   ],
   "source": [
    "samples.shape"
   ]
  },
  {
   "cell_type": "code",
   "execution_count": null,
   "metadata": {},
   "outputs": [],
   "source": [
    "from sklearn.model_selection import train_test_split\n",
    "\n",
    "X_train, X_test, y_train, y_test = train_test_split(samples, labels, test_size=.1, random_state=seed)"
   ]
  },
  {
   "cell_type": "code",
   "execution_count": 8,
   "metadata": {},
   "outputs": [
    {
     "data": {
      "text/plain": [
       "((9000, 1, 128, 128), (1000, 1, 128, 128), (9000,), (1000,))"
      ]
     },
     "execution_count": 8,
     "metadata": {},
     "output_type": "execute_result"
    }
   ],
   "source": [
    "X_train.shape, X_test.shape, y_train.shape, y_test.shape"
   ]
  },
  {
   "cell_type": "code",
   "execution_count": 9,
   "metadata": {},
   "outputs": [
    {
     "data": {
      "text/plain": [
       "2.545584412271571"
      ]
     },
     "execution_count": 9,
     "metadata": {},
     "output_type": "execute_result"
    }
   ],
   "source": [
    "np.std(np.unique(y_test, return_counts=True)[1])"
   ]
  },
  {
   "cell_type": "code",
   "execution_count": 10,
   "metadata": {},
   "outputs": [],
   "source": [
    "np.savez(\"data/train.npz\", data=X_train, labels=y_train)\n",
    "np.savez(\"data/test.npz\", data=X_test, labels=y_test)"
   ]
  },
  {
   "cell_type": "code",
   "execution_count": 11,
   "metadata": {},
   "outputs": [
    {
     "data": {
      "text/plain": [
       "(9000,)"
      ]
     },
     "execution_count": 11,
     "metadata": {},
     "output_type": "execute_result"
    }
   ],
   "source": [
    "np.load(\"data/train.npz\")[\"labels\"].shape"
   ]
  },
  {
   "cell_type": "code",
   "execution_count": 12,
   "metadata": {},
   "outputs": [
    {
     "data": {
      "text/plain": [
       "(1000, 1, 128, 128)"
      ]
     },
     "execution_count": 12,
     "metadata": {},
     "output_type": "execute_result"
    }
   ],
   "source": [
    "np.load(\"data/test.npz\")[\"data\"].shape\n"
   ]
  },
  {
   "cell_type": "code",
   "execution_count": null,
   "metadata": {},
   "outputs": [],
   "source": [
    "register = list()\n",
    "labels = list()\n",
    "\n",
    "for label, clss in enumerate(classes):\n",
    "    image = generate_signature(data, *classes[label])\n",
    "    register.append(image)\n",
    "\n",
    "    labels.append(label)\n",
    "\n",
    "\n",
    "register = np.array(register)\n",
    "register = register.reshape(100, 1, 128, 128)\n",
    "labels = np.array(labels)"
   ]
  },
  {
   "cell_type": "code",
   "execution_count": 10,
   "metadata": {},
   "outputs": [],
   "source": [
    "\n",
    "np.savez(\"data/register.npz\", data=register, labels=labels)"
   ]
  },
  {
   "cell_type": "code",
   "execution_count": 15,
   "metadata": {},
   "outputs": [
    {
     "data": {
      "text/plain": [
       "(100, 1, 128, 128)"
      ]
     },
     "execution_count": 15,
     "metadata": {},
     "output_type": "execute_result"
    }
   ],
   "source": [
    "np.load(\"data/register.npz\")[\"data\"].shape"
   ]
  }
 ],
 "metadata": {
  "kernelspec": {
   "display_name": "Python 3",
   "language": "python",
   "name": "python3"
  },
  "language_info": {
   "codemirror_mode": {
    "name": "ipython",
    "version": 3
   },
   "file_extension": ".py",
   "mimetype": "text/x-python",
   "name": "python",
   "nbconvert_exporter": "python",
   "pygments_lexer": "ipython3",
   "version": "3.12.2"
  }
 },
 "nbformat": 4,
 "nbformat_minor": 2
}
